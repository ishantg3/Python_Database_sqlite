{
  "nbformat": 4,
  "nbformat_minor": 0,
  "metadata": {
    "colab": {
      "provenance": []
    },
    "kernelspec": {
      "name": "python3",
      "display_name": "Python 3"
    },
    "language_info": {
      "name": "python"
    }
  },
  "cells": [
    {
      "cell_type": "code",
      "source": [
        "import sqlite3"
      ],
      "metadata": {
        "id": "cbaSJfstpjtp"
      },
      "execution_count": 2,
      "outputs": []
    },
    {
      "cell_type": "code",
      "source": [
        "conn=sqlite3.connect('movies.db')"
      ],
      "metadata": {
        "id": "pStehROspjwp"
      },
      "execution_count": 3,
      "outputs": []
    },
    {
      "cell_type": "code",
      "source": [
        "conn.execute('''CREATE TABLE IF NOT EXISTS MOVIES (TITLE TEXT,\n",
        "DIRECTOR TEXT,\n",
        "YEAR INT)''')\n",
        "\n",
        "conn.commit()"
      ],
      "metadata": {
        "id": "I3tgzAtjpjzL"
      },
      "execution_count": 4,
      "outputs": []
    },
    {
      "cell_type": "code",
      "source": [
        "conn.execute ('''Insert Into MOVIES VALUES('TAXI DRIVER', 'MARTIN SCORSESE', 1976)''')\n",
        "conn.execute ('''Insert Into MOVIES VALUES('IRISHMAN', 'MARTIN SCORSESE', 2021)''')\n",
        "conn.execute ('''Insert Into MOVIES VALUES('AVATAR', 'JAMES CAMEROON', 2008)''')\n",
        "conn.execute ('''Insert Into MOVIES VALUES('AVATAR2', 'JAMES CAMEROON', 2022)''')\n",
        "\n",
        "conn.commit()"
      ],
      "metadata": {
        "id": "ZiLEXeokpj1t"
      },
      "execution_count": 5,
      "outputs": []
    },
    {
      "cell_type": "code",
      "source": [
        "conn=sqlite3.connect('movies.db')\n",
        "cursor=conn.execute('''select * from Movies''')\n",
        "\n",
        "for row in cursor:\n",
        "  print(row)"
      ],
      "metadata": {
        "colab": {
          "base_uri": "https://localhost:8080/"
        },
        "id": "ZSX2ioZipj4r",
        "outputId": "a5d94b68-0ede-495c-dd5b-39da75510e6b"
      },
      "execution_count": 6,
      "outputs": [
        {
          "output_type": "stream",
          "name": "stdout",
          "text": [
            "('TAXI DRIVER', 'MARTIN SCORSESE', 1976)\n",
            "('IRISHMAN', 'MARTIN SCORSESE', 2021)\n",
            "('AVATAR', 'JAMES CAMEROON', 2008)\n",
            "('AVATAR2', 'JAMES CAMEROON', 2022)\n"
          ]
        }
      ]
    },
    {
      "cell_type": "code",
      "source": [
        "cursor=conn.execute('''select * from Movies\n",
        "where Director='JAMES CAMEROON' ''')\n",
        "\n",
        "for row in cursor:\n",
        "  print(row)"
      ],
      "metadata": {
        "colab": {
          "base_uri": "https://localhost:8080/"
        },
        "id": "qrmUBEbkpj7Q",
        "outputId": "2cfa000a-d44a-4158-a1fe-43dcf6bf61e7"
      },
      "execution_count": 7,
      "outputs": [
        {
          "output_type": "stream",
          "name": "stdout",
          "text": [
            "('AVATAR', 'JAMES CAMEROON', 2008)\n",
            "('AVATAR2', 'JAMES CAMEROON', 2022)\n"
          ]
        }
      ]
    },
    {
      "cell_type": "code",
      "source": [
        "movies_data = [\n",
        "    ('Inception', 'Christopher Nolan', 2010),\n",
        "    ('The Dark Knight', 'Christopher Nolan', 2008),\n",
        "    ('Avatar', 'James Cameron', 2009),\n",
        "    ('Interstellar', 'Christopher Nolan', 2014),\n",
        "    ('The Shawshank Redemption', 'Frank Darabont', 1994),\n",
        "    ('Pulp Fiction', 'Quentin Tarantino', 1994),\n",
        "    ('Forrest Gump', 'Robert Zemeckis', 1994),\n",
        "    ('The Matrix', 'Lana Wachowski, Lilly Wachowski', 1999),\n",
        "    # Add more records as needed\n",
        "]"
      ],
      "metadata": {
        "id": "HalwRztWpj-J"
      },
      "execution_count": 8,
      "outputs": []
    },
    {
      "cell_type": "code",
      "source": [
        "# Use the executemany() method to insert multiple records\n",
        "conn.execute('''INSERT INTO movies values('ET', 'Steven Spielberg', 1992)''')\n",
        "\n",
        "# Commit the changes to the database\n",
        "conn.commit()"
      ],
      "metadata": {
        "id": "T4hSw7ygpkBc"
      },
      "execution_count": 9,
      "outputs": []
    },
    {
      "cell_type": "code",
      "source": [
        "cursor=conn.execute('''select * from Movies ''')\n",
        "\n",
        "for row in cursor:\n",
        "  print(row)"
      ],
      "metadata": {
        "colab": {
          "base_uri": "https://localhost:8080/"
        },
        "id": "0RGQM0oEwsUJ",
        "outputId": "c496361f-9d76-4fe6-b0c0-76a71663eec0"
      },
      "execution_count": 10,
      "outputs": [
        {
          "output_type": "stream",
          "name": "stdout",
          "text": [
            "('TAXI DRIVER', 'MARTIN SCORSESE', 1976)\n",
            "('IRISHMAN', 'MARTIN SCORSESE', 2021)\n",
            "('AVATAR', 'JAMES CAMEROON', 2008)\n",
            "('AVATAR2', 'JAMES CAMEROON', 2022)\n",
            "('ET', 'Steven Spielberg', 1992)\n"
          ]
        }
      ]
    },
    {
      "cell_type": "code",
      "source": [
        "conn.executemany ('''INSERT INTO movies (title, director, year) VALUES (?, ?, ?)''', movies_data)\n",
        "conn.commit()"
      ],
      "metadata": {
        "id": "fv2xk5LMwsW6"
      },
      "execution_count": 20,
      "outputs": []
    },
    {
      "cell_type": "code",
      "source": [
        "cursor=conn.execute('''select * from Movies ''')\n",
        "\n",
        "for row in cursor:\n",
        "  print(row)"
      ],
      "metadata": {
        "colab": {
          "base_uri": "https://localhost:8080/"
        },
        "id": "X3ssBCDzWBrF",
        "outputId": "7e0216e2-953e-4b14-fabe-ed0a0394773f"
      },
      "execution_count": 21,
      "outputs": [
        {
          "output_type": "stream",
          "name": "stdout",
          "text": [
            "('TAXI DRIVER', 'MARTIN SCORSESE', 1976)\n",
            "('IRISHMAN', 'MARTIN SCORSESE', 2021)\n",
            "('AVATAR', 'JAMES CAMEROON', 2008)\n",
            "('AVATAR2', 'JAMES CAMEROON', 2022)\n",
            "('ET', 'Steven Spielberg', 1992)\n",
            "('Inception', 'Christopher Nolan', 2010)\n",
            "('The Dark Knight', 'Christopher Nolan', 2008)\n",
            "('Avatar', 'James Cameron', 2009)\n",
            "('Interstellar', 'Christopher Nolan', 2014)\n",
            "('The Shawshank Redemption', 'Frank Darabont', 1994)\n",
            "('Pulp Fiction', 'Quentin Tarantino', 1994)\n",
            "('Forrest Gump', 'Robert Zemeckis', 1994)\n",
            "('The Matrix', 'Lana Wachowski, Lilly Wachowski', 1999)\n",
            "('Inception', 'Christopher Nolan', 2010)\n",
            "('The Dark Knight', 'Christopher Nolan', 2008)\n",
            "('Avatar', 'James Cameron', 2009)\n",
            "('Interstellar', 'Christopher Nolan', 2014)\n",
            "('The Shawshank Redemption', 'Frank Darabont', 1994)\n",
            "('Pulp Fiction', 'Quentin Tarantino', 1994)\n",
            "('Forrest Gump', 'Robert Zemeckis', 1994)\n",
            "('The Matrix', 'Lana Wachowski, Lilly Wachowski', 1999)\n"
          ]
        }
      ]
    },
    {
      "cell_type": "code",
      "source": [
        "cursor=conn.execute('''Select * from Movies where year>2010''')\n",
        "for row in cursor:\n",
        "  print(row)"
      ],
      "metadata": {
        "colab": {
          "base_uri": "https://localhost:8080/"
        },
        "id": "qXw0hQ2gU61t",
        "outputId": "784ca37c-4667-448a-ee59-72a0dd6d8980"
      },
      "execution_count": 13,
      "outputs": [
        {
          "output_type": "stream",
          "name": "stdout",
          "text": [
            "('IRISHMAN', 'MARTIN SCORSESE', 2021)\n",
            "('AVATAR2', 'JAMES CAMEROON', 2022)\n",
            "('Interstellar', 'Christopher Nolan', 2014)\n"
          ]
        }
      ]
    },
    {
      "cell_type": "code",
      "source": [
        "release_year=(2014,)"
      ],
      "metadata": {
        "id": "7chLKSncVgY6"
      },
      "execution_count": 15,
      "outputs": []
    },
    {
      "cell_type": "code",
      "source": [
        "cursor=conn.execute('''Select * from Movies where year>?''', release_year)\n",
        "for row in cursor:\n",
        "  print(row)"
      ],
      "metadata": {
        "colab": {
          "base_uri": "https://localhost:8080/"
        },
        "id": "dNmxKtMHVljD",
        "outputId": "dc440784-78e2-4f9b-cff3-22b9b2001882"
      },
      "execution_count": 16,
      "outputs": [
        {
          "output_type": "stream",
          "name": "stdout",
          "text": [
            "('IRISHMAN', 'MARTIN SCORSESE', 2021)\n",
            "('AVATAR2', 'JAMES CAMEROON', 2022)\n"
          ]
        }
      ]
    },
    {
      "cell_type": "code",
      "source": [
        "# using SQLalchemy language\n",
        "import sqlalchemy"
      ],
      "metadata": {
        "id": "SDxq_kfzVlmh"
      },
      "execution_count": 22,
      "outputs": []
    },
    {
      "cell_type": "code",
      "source": [
        "engine=sqlalchemy.create_engine('sqlite:///movies.db', echo=True)"
      ],
      "metadata": {
        "id": "Xx2btzdNVl3a"
      },
      "execution_count": 23,
      "outputs": []
    },
    {
      "cell_type": "code",
      "source": [
        "with engine.connect() as conn:\n",
        "  result= conn.execute(sqlalchemy.text(\"select * from Movies\"))\n",
        "  for row in result:\n",
        "    print(row)"
      ],
      "metadata": {
        "colab": {
          "base_uri": "https://localhost:8080/"
        },
        "id": "jChPrYf_Vl6Q",
        "outputId": "9496fcbf-f6d9-4a0e-f429-2e2878fd4098"
      },
      "execution_count": 24,
      "outputs": [
        {
          "output_type": "stream",
          "name": "stdout",
          "text": [
            "2023-11-28 09:54:35,514 INFO sqlalchemy.engine.Engine BEGIN (implicit)\n"
          ]
        },
        {
          "output_type": "stream",
          "name": "stderr",
          "text": [
            "INFO:sqlalchemy.engine.Engine:BEGIN (implicit)\n"
          ]
        },
        {
          "output_type": "stream",
          "name": "stdout",
          "text": [
            "2023-11-28 09:54:35,519 INFO sqlalchemy.engine.Engine select * from Movies\n"
          ]
        },
        {
          "output_type": "stream",
          "name": "stderr",
          "text": [
            "INFO:sqlalchemy.engine.Engine:select * from Movies\n"
          ]
        },
        {
          "output_type": "stream",
          "name": "stdout",
          "text": [
            "2023-11-28 09:54:35,525 INFO sqlalchemy.engine.Engine [generated in 0.01049s] ()\n"
          ]
        },
        {
          "output_type": "stream",
          "name": "stderr",
          "text": [
            "INFO:sqlalchemy.engine.Engine:[generated in 0.01049s] ()\n"
          ]
        },
        {
          "output_type": "stream",
          "name": "stdout",
          "text": [
            "('TAXI DRIVER', 'MARTIN SCORSESE', 1976)\n",
            "('IRISHMAN', 'MARTIN SCORSESE', 2021)\n",
            "('AVATAR', 'JAMES CAMEROON', 2008)\n",
            "('AVATAR2', 'JAMES CAMEROON', 2022)\n",
            "('ET', 'Steven Spielberg', 1992)\n",
            "('Inception', 'Christopher Nolan', 2010)\n",
            "('The Dark Knight', 'Christopher Nolan', 2008)\n",
            "('Avatar', 'James Cameron', 2009)\n",
            "('Interstellar', 'Christopher Nolan', 2014)\n",
            "('The Shawshank Redemption', 'Frank Darabont', 1994)\n",
            "('Pulp Fiction', 'Quentin Tarantino', 1994)\n",
            "('Forrest Gump', 'Robert Zemeckis', 1994)\n",
            "('The Matrix', 'Lana Wachowski, Lilly Wachowski', 1999)\n",
            "('Inception', 'Christopher Nolan', 2010)\n",
            "('The Dark Knight', 'Christopher Nolan', 2008)\n",
            "('Avatar', 'James Cameron', 2009)\n",
            "('Interstellar', 'Christopher Nolan', 2014)\n",
            "('The Shawshank Redemption', 'Frank Darabont', 1994)\n",
            "('Pulp Fiction', 'Quentin Tarantino', 1994)\n",
            "('Forrest Gump', 'Robert Zemeckis', 1994)\n",
            "('The Matrix', 'Lana Wachowski, Lilly Wachowski', 1999)\n",
            "2023-11-28 09:54:35,529 INFO sqlalchemy.engine.Engine ROLLBACK\n"
          ]
        },
        {
          "output_type": "stream",
          "name": "stderr",
          "text": [
            "INFO:sqlalchemy.engine.Engine:ROLLBACK\n"
          ]
        }
      ]
    },
    {
      "cell_type": "code",
      "source": [
        "# Using magic commands\n",
        "%load_ext sql"
      ],
      "metadata": {
        "id": "Wc_ndwI2Vl8s"
      },
      "execution_count": 25,
      "outputs": []
    },
    {
      "cell_type": "code",
      "source": [
        "%sql sqlite:///movies.db"
      ],
      "metadata": {
        "id": "AkVVdYvYaz84"
      },
      "execution_count": 26,
      "outputs": []
    },
    {
      "cell_type": "code",
      "source": [
        "%%sql\n",
        "select * from movies where year>2010;"
      ],
      "metadata": {
        "colab": {
          "base_uri": "https://localhost:8080/",
          "height": 157
        },
        "id": "KJvPPB_zdMux",
        "outputId": "de280799-392a-42f6-ff2b-e4e964cc3c70"
      },
      "execution_count": 27,
      "outputs": [
        {
          "output_type": "stream",
          "name": "stdout",
          "text": [
            " * sqlite:///movies.db\n",
            "Done.\n"
          ]
        },
        {
          "output_type": "execute_result",
          "data": {
            "text/plain": [
              "[('IRISHMAN', 'MARTIN SCORSESE', 2021),\n",
              " ('AVATAR2', 'JAMES CAMEROON', 2022),\n",
              " ('Interstellar', 'Christopher Nolan', 2014),\n",
              " ('Interstellar', 'Christopher Nolan', 2014)]"
            ],
            "text/html": [
              "<table>\n",
              "    <thead>\n",
              "        <tr>\n",
              "            <th>TITLE</th>\n",
              "            <th>DIRECTOR</th>\n",
              "            <th>YEAR</th>\n",
              "        </tr>\n",
              "    </thead>\n",
              "    <tbody>\n",
              "        <tr>\n",
              "            <td>IRISHMAN</td>\n",
              "            <td>MARTIN SCORSESE</td>\n",
              "            <td>2021</td>\n",
              "        </tr>\n",
              "        <tr>\n",
              "            <td>AVATAR2</td>\n",
              "            <td>JAMES CAMEROON</td>\n",
              "            <td>2022</td>\n",
              "        </tr>\n",
              "        <tr>\n",
              "            <td>Interstellar</td>\n",
              "            <td>Christopher Nolan</td>\n",
              "            <td>2014</td>\n",
              "        </tr>\n",
              "        <tr>\n",
              "            <td>Interstellar</td>\n",
              "            <td>Christopher Nolan</td>\n",
              "            <td>2014</td>\n",
              "        </tr>\n",
              "    </tbody>\n",
              "</table>"
            ]
          },
          "metadata": {},
          "execution_count": 27
        }
      ]
    },
    {
      "cell_type": "code",
      "source": [
        "%%sql\n",
        "SELECT name FROM sqlite_master WHERE type='table';"
      ],
      "metadata": {
        "colab": {
          "base_uri": "https://localhost:8080/",
          "height": 116
        },
        "id": "4HN9DcRLXvvU",
        "outputId": "e9414b5f-83d0-4a31-e3c7-26942181d0ba"
      },
      "execution_count": 32,
      "outputs": [
        {
          "output_type": "stream",
          "name": "stdout",
          "text": [
            " * sqlite:///movies.db\n",
            "Done.\n"
          ]
        },
        {
          "output_type": "execute_result",
          "data": {
            "text/plain": [
              "[('MOVIES',), ('test_table',)]"
            ],
            "text/html": [
              "<table>\n",
              "    <thead>\n",
              "        <tr>\n",
              "            <th>name</th>\n",
              "        </tr>\n",
              "    </thead>\n",
              "    <tbody>\n",
              "        <tr>\n",
              "            <td>MOVIES</td>\n",
              "        </tr>\n",
              "        <tr>\n",
              "            <td>test_table</td>\n",
              "        </tr>\n",
              "    </tbody>\n",
              "</table>"
            ]
          },
          "metadata": {},
          "execution_count": 32
        }
      ]
    },
    {
      "cell_type": "code",
      "source": [
        "# add one more table using Magic command method\n",
        "%%sql\n",
        "create table test_table(Name Text, Age Integer);\n",
        "Insert into test_table values ('Alice', 23),('Tom', 24);\n",
        "select * from test_table ;"
      ],
      "metadata": {
        "colab": {
          "base_uri": "https://localhost:8080/",
          "height": 150
        },
        "id": "wFhguk1tamHx",
        "outputId": "6bd9b4d2-b9ff-4f99-e36f-7663bf93baa1"
      },
      "execution_count": 31,
      "outputs": [
        {
          "output_type": "stream",
          "name": "stdout",
          "text": [
            " * sqlite:///movies.db\n",
            "Done.\n",
            "2 rows affected.\n",
            "Done.\n"
          ]
        },
        {
          "output_type": "execute_result",
          "data": {
            "text/plain": [
              "[('Alice', 23), ('Tom', 24)]"
            ],
            "text/html": [
              "<table>\n",
              "    <thead>\n",
              "        <tr>\n",
              "            <th>Name</th>\n",
              "            <th>Age</th>\n",
              "        </tr>\n",
              "    </thead>\n",
              "    <tbody>\n",
              "        <tr>\n",
              "            <td>Alice</td>\n",
              "            <td>23</td>\n",
              "        </tr>\n",
              "        <tr>\n",
              "            <td>Tom</td>\n",
              "            <td>24</td>\n",
              "        </tr>\n",
              "    </tbody>\n",
              "</table>"
            ]
          },
          "metadata": {},
          "execution_count": 31
        }
      ]
    },
    {
      "cell_type": "code",
      "source": [
        "%%sql\n",
        "SELECT name FROM sqlite_master WHERE type='table'"
      ],
      "metadata": {
        "colab": {
          "base_uri": "https://localhost:8080/",
          "height": 116
        },
        "id": "l6Ri9-a9cs3t",
        "outputId": "c991e815-a28f-4569-aea1-4bb0935c9650"
      },
      "execution_count": 35,
      "outputs": [
        {
          "output_type": "stream",
          "name": "stdout",
          "text": [
            " * sqlite:///movies.db\n",
            "Done.\n"
          ]
        },
        {
          "output_type": "execute_result",
          "data": {
            "text/plain": [
              "[('MOVIES',), ('test_table',)]"
            ],
            "text/html": [
              "<table>\n",
              "    <thead>\n",
              "        <tr>\n",
              "            <th>name</th>\n",
              "        </tr>\n",
              "    </thead>\n",
              "    <tbody>\n",
              "        <tr>\n",
              "            <td>MOVIES</td>\n",
              "        </tr>\n",
              "        <tr>\n",
              "            <td>test_table</td>\n",
              "        </tr>\n",
              "    </tbody>\n",
              "</table>"
            ]
          },
          "metadata": {},
          "execution_count": 35
        }
      ]
    },
    {
      "cell_type": "code",
      "source": [
        "import pandas as pd"
      ],
      "metadata": {
        "id": "_7FQjrIAeIeX"
      },
      "execution_count": 36,
      "outputs": []
    },
    {
      "cell_type": "code",
      "source": [
        "# convert databases into dataframe\n",
        "db=sqlite3.connect(\"movies.db\")\n",
        "qry=\"select * from movies\"\n",
        "df=pd.read_sql_query(qry,db)"
      ],
      "metadata": {
        "id": "ATApTXhkcwiQ"
      },
      "execution_count": 37,
      "outputs": []
    },
    {
      "cell_type": "code",
      "source": [
        "df.head()"
      ],
      "metadata": {
        "colab": {
          "base_uri": "https://localhost:8080/",
          "height": 206
        },
        "id": "2s2SYJUBeWMw",
        "outputId": "c82325c6-c2ca-4ab4-b41c-e1d6aa5d2991"
      },
      "execution_count": 38,
      "outputs": [
        {
          "output_type": "execute_result",
          "data": {
            "text/plain": [
              "         TITLE          DIRECTOR  YEAR\n",
              "0  TAXI DRIVER   MARTIN SCORSESE  1976\n",
              "1     IRISHMAN   MARTIN SCORSESE  2021\n",
              "2       AVATAR    JAMES CAMEROON  2008\n",
              "3      AVATAR2    JAMES CAMEROON  2022\n",
              "4           ET  Steven Spielberg  1992"
            ],
            "text/html": [
              "\n",
              "  <div id=\"df-da6032d3-b29c-4e45-952a-8d528a0e8a79\" class=\"colab-df-container\">\n",
              "    <div>\n",
              "<style scoped>\n",
              "    .dataframe tbody tr th:only-of-type {\n",
              "        vertical-align: middle;\n",
              "    }\n",
              "\n",
              "    .dataframe tbody tr th {\n",
              "        vertical-align: top;\n",
              "    }\n",
              "\n",
              "    .dataframe thead th {\n",
              "        text-align: right;\n",
              "    }\n",
              "</style>\n",
              "<table border=\"1\" class=\"dataframe\">\n",
              "  <thead>\n",
              "    <tr style=\"text-align: right;\">\n",
              "      <th></th>\n",
              "      <th>TITLE</th>\n",
              "      <th>DIRECTOR</th>\n",
              "      <th>YEAR</th>\n",
              "    </tr>\n",
              "  </thead>\n",
              "  <tbody>\n",
              "    <tr>\n",
              "      <th>0</th>\n",
              "      <td>TAXI DRIVER</td>\n",
              "      <td>MARTIN SCORSESE</td>\n",
              "      <td>1976</td>\n",
              "    </tr>\n",
              "    <tr>\n",
              "      <th>1</th>\n",
              "      <td>IRISHMAN</td>\n",
              "      <td>MARTIN SCORSESE</td>\n",
              "      <td>2021</td>\n",
              "    </tr>\n",
              "    <tr>\n",
              "      <th>2</th>\n",
              "      <td>AVATAR</td>\n",
              "      <td>JAMES CAMEROON</td>\n",
              "      <td>2008</td>\n",
              "    </tr>\n",
              "    <tr>\n",
              "      <th>3</th>\n",
              "      <td>AVATAR2</td>\n",
              "      <td>JAMES CAMEROON</td>\n",
              "      <td>2022</td>\n",
              "    </tr>\n",
              "    <tr>\n",
              "      <th>4</th>\n",
              "      <td>ET</td>\n",
              "      <td>Steven Spielberg</td>\n",
              "      <td>1992</td>\n",
              "    </tr>\n",
              "  </tbody>\n",
              "</table>\n",
              "</div>\n",
              "    <div class=\"colab-df-buttons\">\n",
              "\n",
              "  <div class=\"colab-df-container\">\n",
              "    <button class=\"colab-df-convert\" onclick=\"convertToInteractive('df-da6032d3-b29c-4e45-952a-8d528a0e8a79')\"\n",
              "            title=\"Convert this dataframe to an interactive table.\"\n",
              "            style=\"display:none;\">\n",
              "\n",
              "  <svg xmlns=\"http://www.w3.org/2000/svg\" height=\"24px\" viewBox=\"0 -960 960 960\">\n",
              "    <path d=\"M120-120v-720h720v720H120Zm60-500h600v-160H180v160Zm220 220h160v-160H400v160Zm0 220h160v-160H400v160ZM180-400h160v-160H180v160Zm440 0h160v-160H620v160ZM180-180h160v-160H180v160Zm440 0h160v-160H620v160Z\"/>\n",
              "  </svg>\n",
              "    </button>\n",
              "\n",
              "  <style>\n",
              "    .colab-df-container {\n",
              "      display:flex;\n",
              "      gap: 12px;\n",
              "    }\n",
              "\n",
              "    .colab-df-convert {\n",
              "      background-color: #E8F0FE;\n",
              "      border: none;\n",
              "      border-radius: 50%;\n",
              "      cursor: pointer;\n",
              "      display: none;\n",
              "      fill: #1967D2;\n",
              "      height: 32px;\n",
              "      padding: 0 0 0 0;\n",
              "      width: 32px;\n",
              "    }\n",
              "\n",
              "    .colab-df-convert:hover {\n",
              "      background-color: #E2EBFA;\n",
              "      box-shadow: 0px 1px 2px rgba(60, 64, 67, 0.3), 0px 1px 3px 1px rgba(60, 64, 67, 0.15);\n",
              "      fill: #174EA6;\n",
              "    }\n",
              "\n",
              "    .colab-df-buttons div {\n",
              "      margin-bottom: 4px;\n",
              "    }\n",
              "\n",
              "    [theme=dark] .colab-df-convert {\n",
              "      background-color: #3B4455;\n",
              "      fill: #D2E3FC;\n",
              "    }\n",
              "\n",
              "    [theme=dark] .colab-df-convert:hover {\n",
              "      background-color: #434B5C;\n",
              "      box-shadow: 0px 1px 3px 1px rgba(0, 0, 0, 0.15);\n",
              "      filter: drop-shadow(0px 1px 2px rgba(0, 0, 0, 0.3));\n",
              "      fill: #FFFFFF;\n",
              "    }\n",
              "  </style>\n",
              "\n",
              "    <script>\n",
              "      const buttonEl =\n",
              "        document.querySelector('#df-da6032d3-b29c-4e45-952a-8d528a0e8a79 button.colab-df-convert');\n",
              "      buttonEl.style.display =\n",
              "        google.colab.kernel.accessAllowed ? 'block' : 'none';\n",
              "\n",
              "      async function convertToInteractive(key) {\n",
              "        const element = document.querySelector('#df-da6032d3-b29c-4e45-952a-8d528a0e8a79');\n",
              "        const dataTable =\n",
              "          await google.colab.kernel.invokeFunction('convertToInteractive',\n",
              "                                                    [key], {});\n",
              "        if (!dataTable) return;\n",
              "\n",
              "        const docLinkHtml = 'Like what you see? Visit the ' +\n",
              "          '<a target=\"_blank\" href=https://colab.research.google.com/notebooks/data_table.ipynb>data table notebook</a>'\n",
              "          + ' to learn more about interactive tables.';\n",
              "        element.innerHTML = '';\n",
              "        dataTable['output_type'] = 'display_data';\n",
              "        await google.colab.output.renderOutput(dataTable, element);\n",
              "        const docLink = document.createElement('div');\n",
              "        docLink.innerHTML = docLinkHtml;\n",
              "        element.appendChild(docLink);\n",
              "      }\n",
              "    </script>\n",
              "  </div>\n",
              "\n",
              "\n",
              "<div id=\"df-c8ac28cc-8ecb-4a23-9bf1-92903fb9984a\">\n",
              "  <button class=\"colab-df-quickchart\" onclick=\"quickchart('df-c8ac28cc-8ecb-4a23-9bf1-92903fb9984a')\"\n",
              "            title=\"Suggest charts\"\n",
              "            style=\"display:none;\">\n",
              "\n",
              "<svg xmlns=\"http://www.w3.org/2000/svg\" height=\"24px\"viewBox=\"0 0 24 24\"\n",
              "     width=\"24px\">\n",
              "    <g>\n",
              "        <path d=\"M19 3H5c-1.1 0-2 .9-2 2v14c0 1.1.9 2 2 2h14c1.1 0 2-.9 2-2V5c0-1.1-.9-2-2-2zM9 17H7v-7h2v7zm4 0h-2V7h2v10zm4 0h-2v-4h2v4z\"/>\n",
              "    </g>\n",
              "</svg>\n",
              "  </button>\n",
              "\n",
              "<style>\n",
              "  .colab-df-quickchart {\n",
              "      --bg-color: #E8F0FE;\n",
              "      --fill-color: #1967D2;\n",
              "      --hover-bg-color: #E2EBFA;\n",
              "      --hover-fill-color: #174EA6;\n",
              "      --disabled-fill-color: #AAA;\n",
              "      --disabled-bg-color: #DDD;\n",
              "  }\n",
              "\n",
              "  [theme=dark] .colab-df-quickchart {\n",
              "      --bg-color: #3B4455;\n",
              "      --fill-color: #D2E3FC;\n",
              "      --hover-bg-color: #434B5C;\n",
              "      --hover-fill-color: #FFFFFF;\n",
              "      --disabled-bg-color: #3B4455;\n",
              "      --disabled-fill-color: #666;\n",
              "  }\n",
              "\n",
              "  .colab-df-quickchart {\n",
              "    background-color: var(--bg-color);\n",
              "    border: none;\n",
              "    border-radius: 50%;\n",
              "    cursor: pointer;\n",
              "    display: none;\n",
              "    fill: var(--fill-color);\n",
              "    height: 32px;\n",
              "    padding: 0;\n",
              "    width: 32px;\n",
              "  }\n",
              "\n",
              "  .colab-df-quickchart:hover {\n",
              "    background-color: var(--hover-bg-color);\n",
              "    box-shadow: 0 1px 2px rgba(60, 64, 67, 0.3), 0 1px 3px 1px rgba(60, 64, 67, 0.15);\n",
              "    fill: var(--button-hover-fill-color);\n",
              "  }\n",
              "\n",
              "  .colab-df-quickchart-complete:disabled,\n",
              "  .colab-df-quickchart-complete:disabled:hover {\n",
              "    background-color: var(--disabled-bg-color);\n",
              "    fill: var(--disabled-fill-color);\n",
              "    box-shadow: none;\n",
              "  }\n",
              "\n",
              "  .colab-df-spinner {\n",
              "    border: 2px solid var(--fill-color);\n",
              "    border-color: transparent;\n",
              "    border-bottom-color: var(--fill-color);\n",
              "    animation:\n",
              "      spin 1s steps(1) infinite;\n",
              "  }\n",
              "\n",
              "  @keyframes spin {\n",
              "    0% {\n",
              "      border-color: transparent;\n",
              "      border-bottom-color: var(--fill-color);\n",
              "      border-left-color: var(--fill-color);\n",
              "    }\n",
              "    20% {\n",
              "      border-color: transparent;\n",
              "      border-left-color: var(--fill-color);\n",
              "      border-top-color: var(--fill-color);\n",
              "    }\n",
              "    30% {\n",
              "      border-color: transparent;\n",
              "      border-left-color: var(--fill-color);\n",
              "      border-top-color: var(--fill-color);\n",
              "      border-right-color: var(--fill-color);\n",
              "    }\n",
              "    40% {\n",
              "      border-color: transparent;\n",
              "      border-right-color: var(--fill-color);\n",
              "      border-top-color: var(--fill-color);\n",
              "    }\n",
              "    60% {\n",
              "      border-color: transparent;\n",
              "      border-right-color: var(--fill-color);\n",
              "    }\n",
              "    80% {\n",
              "      border-color: transparent;\n",
              "      border-right-color: var(--fill-color);\n",
              "      border-bottom-color: var(--fill-color);\n",
              "    }\n",
              "    90% {\n",
              "      border-color: transparent;\n",
              "      border-bottom-color: var(--fill-color);\n",
              "    }\n",
              "  }\n",
              "</style>\n",
              "\n",
              "  <script>\n",
              "    async function quickchart(key) {\n",
              "      const quickchartButtonEl =\n",
              "        document.querySelector('#' + key + ' button');\n",
              "      quickchartButtonEl.disabled = true;  // To prevent multiple clicks.\n",
              "      quickchartButtonEl.classList.add('colab-df-spinner');\n",
              "      try {\n",
              "        const charts = await google.colab.kernel.invokeFunction(\n",
              "            'suggestCharts', [key], {});\n",
              "      } catch (error) {\n",
              "        console.error('Error during call to suggestCharts:', error);\n",
              "      }\n",
              "      quickchartButtonEl.classList.remove('colab-df-spinner');\n",
              "      quickchartButtonEl.classList.add('colab-df-quickchart-complete');\n",
              "    }\n",
              "    (() => {\n",
              "      let quickchartButtonEl =\n",
              "        document.querySelector('#df-c8ac28cc-8ecb-4a23-9bf1-92903fb9984a button');\n",
              "      quickchartButtonEl.style.display =\n",
              "        google.colab.kernel.accessAllowed ? 'block' : 'none';\n",
              "    })();\n",
              "  </script>\n",
              "</div>\n",
              "    </div>\n",
              "  </div>\n"
            ]
          },
          "metadata": {},
          "execution_count": 38
        }
      ]
    }
  ]
}